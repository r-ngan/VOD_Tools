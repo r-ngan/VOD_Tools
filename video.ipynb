{
 "cells": [
  {
   "cell_type": "code",
   "execution_count": null,
   "id": "183cc38f-0e79-4c76-8a8f-73d9ff8cdd87",
   "metadata": {},
   "outputs": [],
   "source": [
    "import importlib\n",
    "import math\n",
    "import argparse\n",
    "import sys\n",
    "import time\n",
    "import traceback\n",
    "import json\n",
    "from pubsub import pub\n",
    "pub.unsubAll()\n",
    "import schedula as sh\n",
    "import numpy as np\n",
    "import cv2\n",
    "\n",
    "import VODEvents\n",
    "from ImgProc import ImgTask\n",
    "import RangeStats\n",
    "\n",
    "from video import *"
   ]
  },
  {
   "cell_type": "code",
   "execution_count": null,
   "id": "c37e9c7b-d2a5-4a0c-8226-f02a4634bdbe",
   "metadata": {},
   "outputs": [],
   "source": [
    "argp = argparse.ArgumentParser(description='VOD review tool')\n",
    "argp.add_argument('source', nargs='?', default='test.mkv', \n",
    "                help='video source path')\n",
    "argp.add_argument('--skip', type=int, nargs='?', default=210,\n",
    "                help='start at offset frames into video')\n",
    "argp.add_argument('-m', '--manual', action='store_false',\n",
    "                help='turn off autoplay')\n",
    "argp.add_argument('-d', '--dump', nargs='?', const='dump.mp4', default=None,\n",
    "                help='dump out debug frame to video file')\n",
    "params = argp.parse_args('test.mkv'.split(' '))"
   ]
  },
  {
   "cell_type": "code",
   "execution_count": null,
   "id": "675b10fc-3932-4cff-b844-b978a8fcc614",
   "metadata": {},
   "outputs": [],
   "source": [
    "src = VideoSource.instance\n",
    "if not src.open(params.source):\n",
    "    print ('FATAL ERROR: cannot open video')\n",
    "    exit()\n",
    "    \n",
    "DUMP = False\n",
    "if params.dump is not None:\n",
    "    DUMP = True\n",
    "    from ImgProc import VideoWriter\n",
    "    VideoWriter.path = params.dump\n",
    "    print('Video writer imported')\n",
    "    \n",
    "src.skip_to_frame(params.skip) # skip VOD preamble\n",
    "# 23-09-15 tricky bot appear: 1440, 2590\n",
    "# 23-12-24 tricky bot appear: 811, 1433\n",
    "xdim, ydim, frate, frames_total = src.get_video_params()\n",
    "depth = src.frame.shape[-1]\n",
    "print ('Video = %s @ %s fps. %s frames'%(src.frame.shape, frate, frames_total))\n",
    "\n",
    "outs = [RangeStats.NODE]\n",
    "outs.append(ImgTask.IMG_DEBUG)\n",
    "if DUMP:\n",
    "    outs.append(VideoWriter.WRITER_NODE)\n",
    "\n",
    "show_img = 0\n",
    "autoplay = params.manual\n",
    "if not BATCH:\n",
    "    def breakpoint(timestamp=0, x=0, y=0):\n",
    "        global autoplay\n",
    "        autoplay = False\n",
    "        \n",
    "    def filter_event(eventdict):\n",
    "        events = unroll(eventdict, listed=True)\n",
    "        for x in events:\n",
    "            if x['topic'] == VODEvents.BOT_APPEAR:\n",
    "                breakpoint()\n",
    "                return 0\n",
    "        return 0\n",
    "\n",
    "    NODE_BREAK = 'BREAKPT'\n",
    "    ImgTask.pipe.register(filter_event, name='breakpoint',\n",
    "                reqs=[VODEvents.EVENT_NODE], outs=[NODE_BREAK])\n",
    "    outs.append(NODE_BREAK)\n",
    "else:\n",
    "    autoplay = True"
   ]
  },
  {
   "cell_type": "code",
   "execution_count": null,
   "id": "e6e2a3fd-2de6-43cc-bb3a-ef5a11bdd43e",
   "metadata": {},
   "outputs": [],
   "source": [
    "pub.subscribe(dbg_event, pub.ALL_TOPICS)\n",
    "pub.sendMessage(ImgEvents.INIT, \n",
    "                pipe= ImgTask.pipe,\n",
    "                width= xdim,\n",
    "                height= ydim,\n",
    "                depth= depth,\n",
    "                frame_rate= frate,) # initialize all modules\n",
    "\n",
    "ImgTask.pipe.add_capture(ImgTask.IMG_DEBUG)\n",
    "ImgTask.pipe.add_capture(VODEvents.EVENT_NODE)"
   ]
  },
  {
   "cell_type": "code",
   "execution_count": null,
   "id": "ac225232-fcf4-4e8e-9536-62ac8ad28b4a",
   "metadata": {},
   "outputs": [],
   "source": [
    "plt = ImgTask.pipe.dsp.plot(view=False, engine='dot', body={'style': 'filled'}, workflow=True)\n",
    "display(plt)"
   ]
  },
  {
   "cell_type": "code",
   "execution_count": null,
   "id": "e44583c1-6d3e-4d81-9241-65b2063e911b",
   "metadata": {},
   "outputs": [],
   "source": [
    "total=0\n",
    "for k,v in ImgTask.pipe.dsp.solution.workflow.nodes.items():\n",
    "    if 'duration' in v:\n",
    "        dur = v['duration']*1000\n",
    "        total += dur\n",
    "        print ('%s : %s'%(k, dur))\n",
    "print ('total= %s'%(total))"
   ]
  },
  {
   "cell_type": "code",
   "execution_count": null,
   "id": "3a7425d1-a6f8-4968-9351-036e0aa39ff3",
   "metadata": {},
   "outputs": [],
   "source": [
    "\n",
    "tst = time.time_ns()\n",
    "try:\n",
    "    sol = ImgTask.pipe.run_pipe(ins=None, outs=outs)\n",
    "except VideoSource.VideoException: # out of frames\n",
    "    exit()\n",
    "ten = time.time_ns()\n",
    "print (src.frame_num)\n",
    "print ('pipe= %3.3fms'%((ten-tst)/1e6))"
   ]
  },
  {
   "cell_type": "code",
   "execution_count": null,
   "id": "7e81c93e-d013-416d-8ea3-fa0e39c4a0ca",
   "metadata": {},
   "outputs": [],
   "source": [
    "%matplotlib inline\n",
    "\n",
    "from matplotlib import pyplot as plt\n",
    "\n",
    "k1 = [*sol['debug']][0]\n",
    "outimg = sol['debug'][k1]\n",
    "outimg = cv2.cvtColor(outimg, cv2.COLOR_BGR2RGB)\n",
    "#Show the image with matplotlib\n",
    "plt.figure(figsize=(30, 20))\n",
    "plt.axis('off')\n",
    "plt.imshow(outimg)\n",
    "plt.show()"
   ]
  },
  {
   "cell_type": "code",
   "execution_count": null,
   "id": "ccb46731-8f67-4b03-856f-59c3d40245ba",
   "metadata": {},
   "outputs": [],
   "source": [
    "%matplotlib inline\n",
    "\n",
    "from matplotlib import pyplot as plt\n",
    "\n",
    "k1 = [*sol['debug']][1]\n",
    "outimg = sol['debug'][k1]\n",
    "outimg = cv2.cvtColor(outimg, cv2.COLOR_BGR2RGB)\n",
    "#Show the image with matplotlib\n",
    "plt.figure(figsize=(30, 20))\n",
    "plt.axis('off')\n",
    "plt.imshow(outimg)\n",
    "plt.show()"
   ]
  },
  {
   "cell_type": "code",
   "execution_count": null,
   "id": "13db11e3-62f8-48db-9edf-36b218fcdc23",
   "metadata": {},
   "outputs": [],
   "source": [
    "aug_shape = (frame.shape[0], frame.shape[0], 2)\n",
    "y = np.zeros(aug_shape)\n",
    "y.shape"
   ]
  },
  {
   "cell_type": "code",
   "execution_count": null,
   "id": "89afa999-3665-44e3-83c1-27b44ca6635c",
   "metadata": {},
   "outputs": [],
   "source": [
    "dsp = sh.Dispatcher(name='test', raises=True)\n",
    "class CException(Exception):\n",
    "    pass\n",
    "    \n",
    "def my_function(a,b):\n",
    "    c=a+b\n",
    "    d=a-b\n",
    "    time.sleep(0.5)\n",
    "    #raise CException()\n",
    "    return c,d\n",
    "\n",
    "def hole(a):\n",
    "    print (a)\n",
    "    return 1\n",
    "\n",
    "def hole2(a):\n",
    "    print(a)\n",
    "\n",
    "def collate(kwargs):\n",
    "    return kwargs\n",
    "\n",
    "dsp.add_data(data_id='g', wait_inputs=True, function=collate)\n",
    "dsp.add_function(function=my_function, inputs=['a1', 'b1'],\n",
    "                 outputs=['c', 'd'])\n",
    "dsp.add_function(function=lambda x,y: x*10+y*100, inputs=['c', 'd'],\n",
    "                 outputs=['e'])\n",
    "dsp.add_function(function=lambda x,y: x*10+y*100, inputs=['a1', 'b1'],\n",
    "                 outputs=['f'])\n",
    "dsp.add_function(function=hole, inputs=['f'],\n",
    "                 outputs=['g'])\n",
    "dsp.add_function(function=hole2, inputs=['e'],\n",
    "                 outputs=['g'])\n",
    "dsp.add_function(function=collate, inputs=['g'],\n",
    "                 outputs=['h'])\n",
    "#dsp.add_data(data_id='g')"
   ]
  },
  {
   "cell_type": "code",
   "execution_count": null,
   "id": "799a41da-b788-4d28-87f7-803354128e92",
   "metadata": {},
   "outputs": [],
   "source": [
    "outs = ['g']\n",
    "sol = dsp.dispatch({'a1': np.array([[5,2,3,1],[1,2,3,4]]), 'b1': 3}, outputs=outs, executor='async')\n",
    "print (sol)\n",
    "try:\n",
    "    sol2 = sol.result()\n",
    "except Exception as e:\n",
    "    print ('exception')\n",
    "    xx=e\n",
    "print (sol2)\n",
    "res = {k:sol[k] for k in outs}\n",
    "print (res)\n",
    "print (res['g'])"
   ]
  },
  {
   "cell_type": "code",
   "execution_count": null,
   "id": "0f720f7b-c62d-4bd2-af85-5ad00666e97c",
   "metadata": {},
   "outputs": [],
   "source": [
    "# Click on the graph to see the model.\n",
    "x = dsp.plot(view=False, engine='dot', body={'style': 'filled'}, workflow=True)"
   ]
  },
  {
   "cell_type": "code",
   "execution_count": null,
   "id": "ba3efa12-3d22-4c28-8d5e-e3eedbfa76f8",
   "metadata": {},
   "outputs": [],
   "source": [
    "display(x)"
   ]
  },
  {
   "cell_type": "code",
   "execution_count": null,
   "id": "42bea550-4077-4c70-9a15-a6987ed4369b",
   "metadata": {},
   "outputs": [],
   "source": [
    "import torch\n",
    "import torchvision.models as models\n",
    "all_models = models.list_models()"
   ]
  },
  {
   "cell_type": "code",
   "execution_count": null,
   "id": "61c23d81-f408-4513-ac4d-a041cffdf406",
   "metadata": {},
   "outputs": [],
   "source": [
    "all_models"
   ]
  },
  {
   "cell_type": "code",
   "execution_count": null,
   "id": "e959a83b-7f2c-4d76-b6c9-8cd2c7f3efe8",
   "metadata": {},
   "outputs": [],
   "source": []
  }
 ],
 "metadata": {
  "kernelspec": {
   "display_name": "Python 3 (ipykernel)",
   "language": "python",
   "name": "python3"
  },
  "language_info": {
   "codemirror_mode": {
    "name": "ipython",
    "version": 3
   },
   "file_extension": ".py",
   "mimetype": "text/x-python",
   "name": "python",
   "nbconvert_exporter": "python",
   "pygments_lexer": "ipython3",
   "version": "3.11.1"
  }
 },
 "nbformat": 4,
 "nbformat_minor": 5
}
